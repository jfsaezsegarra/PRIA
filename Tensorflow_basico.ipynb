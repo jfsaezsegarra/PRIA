{
  "cells": [
    {
      "cell_type": "markdown",
      "metadata": {
        "id": "PT7j8hhcFe2p"
      },
      "source": [
        "#Ejemplo Tensorflow"
      ]
    },
    {
      "cell_type": "code",
      "execution_count": null,
      "metadata": {
        "id": "fLWt6Hz5M02V"
      },
      "outputs": [],
      "source": [
        "#TPU\n",
        "import tensorflow as tf\n",
        "\n",
        "resolver = tf.distribute.cluster_resolver.TPUClusterResolver(tpu='')\n",
        "tf.config.experimental_connect_to_cluster(resolver)\n",
        "tf.tpu.experimental.initialize_tpu_system(resolver)\n",
        "print(\"Número de TPU disponibles:\", len(tf.config.experimental.list_logical_devices('TPU')))"
      ]
    },
    {
      "cell_type": "code",
      "execution_count": null,
      "metadata": {
        "id": "y4sQQSNQNA67"
      },
      "outputs": [],
      "source": [
        "#t4 GPU\n",
        "!nvidia-smi\n",
        "!nvcc --version\n",
        "\n",
        "\n",
        "import tensorflow as tf\n",
        "print(\"Num GPUs Available:\", len(tf.config.experimental.list_physical_devices('GPU')))\n",
        "\n",
        "\n",
        "import tensorflow as tf\n",
        "print(\"Num GPUs Available:\", len(tf.config.experimental.list_physical_devices('GPU')))"
      ]
    },
    {
      "cell_type": "code",
      "execution_count": null,
      "metadata": {
        "id": "FYzfPyuq0WlZ"
      },
      "outputs": [],
      "source": [
        "import tensorflow as tf\n",
        "import numpy as np\n",
        "\n",
        "# Crear tensores\n",
        "tensor_a = tf.constant([1, 2, 3], dtype=tf.float32)\n",
        "tensor_b = tf.constant([4, 5, 6], dtype=tf.float32)\n",
        "\n",
        "# Operaciones\n",
        "suma = tf.add(tensor_a, tensor_b)\n",
        "producto_punto = tf.reduce_sum(tf.multiply(tensor_a, tensor_b))\n",
        "\n",
        "# Ejecutar operaciones sin necesidad de sesión en TensorFlow 2.x\n",
        "resultado_suma = suma.numpy()\n",
        "resultado_producto_punto = producto_punto.numpy()\n",
        "\n",
        "print(\"Resultado de la suma:\", resultado_suma)\n",
        "print(\"Resultado del producto punto:\", resultado_producto_punto)"
      ]
    },
    {
      "cell_type": "markdown",
      "metadata": {
        "id": "tsRHQi0FHANo"
      },
      "source": [
        "1.*Practicas* Tensorflow"
      ]
    },
    {
      "cell_type": "markdown",
      "metadata": {
        "id": "Obr-wqZ-2RHz"
      },
      "source": [
        "1.Ejercicio\n",
        "\n",
        "1.Crea dos constantes (a y b) utilizando TensorFlow con valores numéricos.\n",
        "Realiza las siguientes operaciones:\n",
        "\n",
        "    Suma (suma): suma de a y b.\n",
        "    Resta (resta): resta de a y b.\n",
        "    Multiplicación (multiplicacion): multiplicación de a y b.\n",
        "    División (division): división de a entre b.\n",
        "\n"
      ]
    },
    {
      "cell_type": "markdown",
      "metadata": {
        "id": "JwIK6_WnHwRw"
      },
      "source": [
        "1.2    Define dos tensores, a y b, con formas diferentes y realiza las siguientes operaciones:\n",
        "        Suma a y b.\n",
        "        Multiplica a por un escalar.\n",
        "        Calcula el producto punto entre a y b.\n",
        "        Concatena a y b a lo largo de un eje."
      ]
    },
    {
      "cell_type": "markdown",
      "metadata": {
        "id": "sdeu6B1S3ElH"
      },
      "source": [
        "Ejercicio 2:\n",
        "\n",
        "Tensores y Operaciones Matriciales con TensorFlow\n",
        "\n",
        "    Crea dos matrices como tensores  (matrix_a y matrix_b) en TensorFlow.\n",
        "    Define valores para las matrices matrix_a_valores y matrix_b_valores.\n",
        "    Realiza una operación matricial de multiplicación (producto_matricial) entre matrix_a y matrix_b.\n",
        "    Ejecutar la operación matricial con los valores definidos para las matrices y muestra el resultado sin utilizar sesiones"
      ]
    },
    {
      "cell_type": "markdown",
      "metadata": {
        "id": "DcPZLcr23GhN"
      },
      "source": [
        "\n",
        "Ejercicio 3:\n",
        "Uso de Variables\n",
        "\n",
        "    Crea una variable weight e inicialízala con un array de números.\n",
        "    Asigna nuevos valores a la variable weight y realiza una operación de suma con otro array.\n",
        "    Utiliza assign_add para incrementar la variable weight por un array específico."
      ]
    },
    {
      "cell_type": "markdown",
      "metadata": {
        "id": "lIz7td7C3Gnr"
      },
      "source": [
        "Ejercicio 4: Diferenciación Automática\n",
        "\n",
        "    Define una función f(x) que contenga una operación cuadrática.\n",
        "    Utiliza tf.GradientTape para calcular la derivada de f(x) con respecto a x en un punto específico.\n",
        "    Modifica la función para tener múltiples variables y calcula el gradiente respecto a todas ellas."
      ]
    }
  ],
  "metadata": {
    "colab": {
      "provenance": []
    },
    "kernelspec": {
      "display_name": "Python 3",
      "name": "python3"
    },
    "language_info": {
      "name": "python"
    }
  },
  "nbformat": 4,
  "nbformat_minor": 0
}
